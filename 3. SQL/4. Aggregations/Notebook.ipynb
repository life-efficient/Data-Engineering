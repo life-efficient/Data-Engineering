{
 "cells": [
  {
   "cell_type": "markdown",
   "metadata": {},
   "source": [
    "# SQL - Aggregations"
   ]
  },
  {
   "cell_type": "markdown",
   "metadata": {},
   "source": [
    "Many of the lessons in this module are presented in slides. \n",
    "\n",
    "Click here to open the presentation [Link](https://www.icloud.com/keynote/0gfF_uxLFjD2A_TuX-M-wD_Pw#4._SQL_Data_Analysis_-_Aggregations,_Function,_Flow_Control)\n",
    "\n",
    "Or click here to open the presentation in PDF format [Link](https://aicore-files.s3.amazonaws.com/Data-Eng/SQL/4.+SQL+Data+Analysis+-+Aggregations%2C+Function%2C+Flow+Control.pdf)"
   ]
  },
  {
   "cell_type": "markdown",
   "metadata": {},
   "source": []
  }
 ],
 "metadata": {
  "language_info": {
   "name": "python"
  },
  "orig_nbformat": 4
 },
 "nbformat": 4,
 "nbformat_minor": 2
}
