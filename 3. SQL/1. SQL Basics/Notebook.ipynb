{
 "cells": [
  {
   "cell_type": "markdown",
   "metadata": {},
   "source": [
    "# SQL - Basics"
   ]
  },
  {
   "cell_type": "markdown",
   "metadata": {},
   "source": [
    "Many of the lessons in this module are presented in slides. \n",
    "\n",
    "Click here to open the presentation on iCloud [Link](https://www.icloud.com/keynote/0YWhmdTdrolzDyxlXMPK3AbRQ#1._SQL_Basics)\n",
    "\n",
    "Or click here to open the presentation in PDF format [Link](https://aicore-files.s3.amazonaws.com/Data-Eng/SQL/1.+SQL+Basics.pdf)"
   ]
  },
  {
   "cell_type": "markdown",
   "metadata": {},
   "source": []
  }
 ],
 "metadata": {
  "language_info": {
   "name": "python"
  },
  "orig_nbformat": 4
 },
 "nbformat": 4,
 "nbformat_minor": 2
}
