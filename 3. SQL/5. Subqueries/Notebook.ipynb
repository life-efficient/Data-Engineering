{
 "cells": [
  {
   "cell_type": "markdown",
   "metadata": {},
   "source": [
    "# SQL - Subqueries"
   ]
  },
  {
   "cell_type": "markdown",
   "metadata": {},
   "source": [
    "Many of the lessons in this module are presented in slides. \n",
    "\n",
    "Click here to open the presentation [Link](https://www.icloud.com/keynote/07sWLdojiTUQNDt1KLSD85QWA#5._SQL_Subqueries)\n",
    "\n",
    "Or click here to open the presentation in PDF format [Link](https://aicore-files.s3.amazonaws.com/Data-Eng/SQL/5.+SQL+Subqueries.pdf)"
   ]
  },
  {
   "cell_type": "markdown",
   "metadata": {},
   "source": []
  }
 ],
 "metadata": {
  "language_info": {
   "name": "python"
  },
  "orig_nbformat": 4
 },
 "nbformat": 4,
 "nbformat_minor": 2
}
